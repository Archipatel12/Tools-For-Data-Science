{
 "cells": [
  {
   "cell_type": "markdown",
   "id": "f958ff38-a2c6-4803-ad0c-51bae8367251",
   "metadata": {},
   "source": [
    "# Data Science Final Project\n"
   ]
  },
  {
   "cell_type": "markdown",
   "id": "fcecf6ea-0afb-436f-b441-cde38a2e1535",
   "metadata": {},
   "source": [
    "## Introduction\n",
    "In this notebook, I will showcase the fundamental tools, libraries, and examples in data science. This project aims to introduce basic programming and data manipulation techniques.\n"
   ]
  },
  {
   "cell_type": "markdown",
   "id": "994db2f6-2808-44c3-8551-3ba5f7818a05",
   "metadata": {},
   "source": [
    "## Data Science Languages\n",
    "- Python\n",
    "- R\n",
    "- SQL\n",
    "- Java\n",
    "- Julia\n"
   ]
  },
  {
   "cell_type": "markdown",
   "id": "dad18abd-c077-4faa-b791-4a24ecec1d55",
   "metadata": {},
   "source": [
    "## Data Science Libraries\n",
    "- Pandas\n",
    "- NumPy\n",
    "- Matplotlib\n",
    "- Scikit-learn\n",
    "- TensorFlow\n",
    "- Keras\n"
   ]
  },
  {
   "cell_type": "markdown",
   "id": "62d9646c-2daf-4178-8355-5decd893e9fe",
   "metadata": {},
   "source": [
    "## Data Science Tools\n",
    "\n",
    "| Tool           | Purpose                      |\n",
    "|----------------|------------------------------|\n",
    "| Jupyter Notebook | Interactive coding environment |\n",
    "| RStudio        | R programming IDE            |\n",
    "| GitHub         | Version control & sharing    |\n",
    "| Apache Spark   | Big Data processing          |\n",
    "| Tableau        | Data visualization           |\n"
   ]
  },
  {
   "cell_type": "markdown",
   "id": "ae6df6c8-3684-4cf2-8cbb-f2b12a7b74ef",
   "metadata": {},
   "source": [
    "## Arithmetic Expressions\n",
    "This section will demonstrate some basic arithmetic expressions.\n"
   ]
  },
  {
   "cell_type": "code",
   "execution_count": 3,
   "id": "5bfeca2a-aba2-4a42-95ae-3f9f25212d10",
   "metadata": {},
   "outputs": [
    {
     "data": {
      "text/plain": [
       "70"
      ]
     },
     "execution_count": 3,
     "metadata": {},
     "output_type": "execute_result"
    }
   ],
   "source": [
    "# Multiplying and adding numbers\n",
    "a = 5\n",
    "b = 10\n",
    "result = (a * b) + 20\n",
    "result\n"
   ]
  },
  {
   "cell_type": "code",
   "execution_count": 4,
   "id": "ec89b142-05da-4357-a90e-c53c7185fde4",
   "metadata": {},
   "outputs": [
    {
     "data": {
      "text/plain": [
       "2.5"
      ]
     },
     "execution_count": 4,
     "metadata": {},
     "output_type": "execute_result"
    }
   ],
   "source": [
    "# Converting minutes to hours\n",
    "minutes = 150\n",
    "hours = minutes / 60S\n",
    "hours\n"
   ]
  },
  {
   "cell_type": "markdown",
   "id": "f749d700-5840-41a4-91f1-291b032ace03",
   "metadata": {},
   "source": [
    "## Objectives\n",
    "- Understand the basics of data science tools and libraries.\n",
    "- Learn how to perform basic arithmetic and conversions using Python.\n",
    "- Demonstrate how to organize and present a data science project.\n"
   ]
  },
  {
   "cell_type": "markdown",
   "id": "ff753c75-00c4-41bf-b008-9dd344217fdf",
   "metadata": {},
   "source": [
    "## Author\n",
    "Archi PatelS\n"
   ]
  },
  {
   "cell_type": "code",
   "execution_count": null,
   "id": "d26e2fc6-905c-47db-82fa-7fe723825c2d",
   "metadata": {},
   "outputs": [],
   "source": []
  }
 ],
 "metadata": {
  "kernelspec": {
   "display_name": "Python 3 (ipykernel)",
   "language": "python",
   "name": "python3"
  },
  "language_info": {
   "codemirror_mode": {
    "name": "ipython",
    "version": 3
   },
   "file_extension": ".py",
   "mimetype": "text/x-python",
   "name": "python",
   "nbconvert_exporter": "python",
   "pygments_lexer": "ipython3",
   "version": "3.13.1"
  }
 },
 "nbformat": 4,
 "nbformat_minor": 5
}
